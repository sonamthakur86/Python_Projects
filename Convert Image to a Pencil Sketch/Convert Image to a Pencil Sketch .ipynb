{
 "cells": [
  {
   "cell_type": "code",
   "execution_count": 1,
   "id": "81bc43d7",
   "metadata": {},
   "outputs": [
    {
     "name": "stdout",
     "output_type": "stream",
     "text": [
      "Collecting opencv-python\n",
      "  Downloading opencv_python-4.5.4.58-cp38-cp38-win_amd64.whl (35.1 MB)\n",
      "Requirement already satisfied: numpy>=1.17.3 in c:\\users\\hp\\anaconda3\\lib\\site-packages (from opencv-python) (1.20.1)\n",
      "Installing collected packages: opencv-python\n",
      "Successfully installed opencv-python-4.5.4.58\n"
     ]
    }
   ],
   "source": [
    "## !pip install opencv-python"
   ]
  },
  {
   "cell_type": "code",
   "execution_count": 9,
   "id": "7de6c523",
   "metadata": {},
   "outputs": [],
   "source": [
    "import cv2"
   ]
  },
  {
   "cell_type": "code",
   "execution_count": 15,
   "id": "af8f9710",
   "metadata": {},
   "outputs": [],
   "source": [
    "#Reading Image\n",
    "image=cv2.imread(\"IMG_1460.jpg\")"
   ]
  },
  {
   "cell_type": "code",
   "execution_count": 16,
   "id": "fafc8c6a",
   "metadata": {},
   "outputs": [],
   "source": [
    "#Converting BGR image to grayscale\n",
    "gray_image=cv2.cvtColor(image,cv2.COLOR_BGR2GRAY)"
   ]
  },
  {
   "cell_type": "code",
   "execution_count": 17,
   "id": "01844e87",
   "metadata": {},
   "outputs": [],
   "source": [
    "#Image inversion\n",
    "inverted_image=255-gray_image"
   ]
  },
  {
   "cell_type": "code",
   "execution_count": 18,
   "id": "44b34bae",
   "metadata": {},
   "outputs": [],
   "source": [
    "blurred=cv2.GaussianBlur(inverted_image,(21,21),0)\n",
    "inverted_blurred=255-blurred\n",
    "pencil_sketch=cv2.divide(gray_image,inverted_blurred,scale=256.0)"
   ]
  },
  {
   "cell_type": "code",
   "execution_count": 19,
   "id": "ccb92b25",
   "metadata": {},
   "outputs": [
    {
     "data": {
      "text/plain": [
       "-1"
      ]
     },
     "execution_count": 19,
     "metadata": {},
     "output_type": "execute_result"
    }
   ],
   "source": [
    "cv2.imshow(\"Original Image\",image)\n",
    "cv2.imshow(\"My Pencil sketch\",pencil_sketch)\n",
    "cv2.waitKey(0)"
   ]
  },
  {
   "cell_type": "code",
   "execution_count": null,
   "id": "94fdb357",
   "metadata": {},
   "outputs": [],
   "source": []
  }
 ],
 "metadata": {
  "kernelspec": {
   "display_name": "Python 3",
   "language": "python",
   "name": "python3"
  },
  "language_info": {
   "codemirror_mode": {
    "name": "ipython",
    "version": 3
   },
   "file_extension": ".py",
   "mimetype": "text/x-python",
   "name": "python",
   "nbconvert_exporter": "python",
   "pygments_lexer": "ipython3",
   "version": "3.8.8"
  }
 },
 "nbformat": 4,
 "nbformat_minor": 5
}
