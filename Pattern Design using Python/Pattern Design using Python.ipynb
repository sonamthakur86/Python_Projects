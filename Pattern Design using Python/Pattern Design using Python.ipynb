{
 "cells": [
  {
   "cell_type": "code",
   "execution_count": 1,
   "id": "56b0ac94",
   "metadata": {},
   "outputs": [],
   "source": [
    "import turtle\n",
    "tr=turtle.Turtle()"
   ]
  },
  {
   "cell_type": "code",
   "execution_count": 2,
   "id": "164f412c",
   "metadata": {},
   "outputs": [],
   "source": [
    "tr.pensize(8)"
   ]
  },
  {
   "cell_type": "code",
   "execution_count": 3,
   "id": "6f41e57e",
   "metadata": {},
   "outputs": [],
   "source": [
    "tr.color(\"blue\")\n",
    "tr.penup()\n",
    "tr.goto(-110,-25)\n",
    "tr.pendown()\n",
    "tr.circle(45)"
   ]
  },
  {
   "cell_type": "code",
   "execution_count": 4,
   "id": "bb14a201",
   "metadata": {},
   "outputs": [],
   "source": [
    "tr.color(\"black\")\n",
    "tr.penup()\n",
    "tr.goto(0,-25)\n",
    "tr.pendown()\n",
    "tr.circle(45)"
   ]
  },
  {
   "cell_type": "code",
   "execution_count": 5,
   "id": "41b1c08c",
   "metadata": {},
   "outputs": [],
   "source": [
    "tr.color(\"red\")\n",
    "tr.penup()\n",
    "tr.goto(110,-25)\n",
    "tr.pendown()\n",
    "tr.circle(45)"
   ]
  },
  {
   "cell_type": "code",
   "execution_count": 6,
   "id": "93a0874f",
   "metadata": {},
   "outputs": [],
   "source": [
    "tr.color(\"yellow\")\n",
    "tr.penup()\n",
    "tr.goto(-55,-75)\n",
    "tr.pendown()\n",
    "tr.circle(45)"
   ]
  },
  {
   "cell_type": "code",
   "execution_count": 7,
   "id": "36ae1f2e",
   "metadata": {},
   "outputs": [],
   "source": [
    "tr.color(\"green\")\n",
    "tr.penup()\n",
    "tr.goto(55,-75)\n",
    "tr.pendown()\n",
    "tr.circle(45)"
   ]
  },
  {
   "cell_type": "code",
   "execution_count": null,
   "id": "e458fad6",
   "metadata": {},
   "outputs": [],
   "source": []
  }
 ],
 "metadata": {
  "kernelspec": {
   "display_name": "Python 3",
   "language": "python",
   "name": "python3"
  },
  "language_info": {
   "codemirror_mode": {
    "name": "ipython",
    "version": 3
   },
   "file_extension": ".py",
   "mimetype": "text/x-python",
   "name": "python",
   "nbconvert_exporter": "python",
   "pygments_lexer": "ipython3",
   "version": "3.8.8"
  }
 },
 "nbformat": 4,
 "nbformat_minor": 5
}
